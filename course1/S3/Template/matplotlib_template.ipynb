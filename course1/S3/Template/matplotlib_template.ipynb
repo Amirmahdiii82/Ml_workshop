{
  "cells": [
    {
      "cell_type": "markdown",
      "metadata": {
        "id": "6rm-pIXKioB7"
      },
      "source": [
        "# Matplotlib"
      ]
    },
    {
      "cell_type": "code",
      "execution_count": null,
      "metadata": {
        "id": "fOYzyn_sioB-"
      },
      "outputs": [],
      "source": []
    },
    {
      "cell_type": "markdown",
      "metadata": {
        "id": "XrREnvEwioCA"
      },
      "source": [
        "### Basic Graph"
      ]
    },
    {
      "cell_type": "code",
      "execution_count": null,
      "metadata": {
        "id": "l1QOCzvYioCA"
      },
      "outputs": [],
      "source": []
    },
    {
      "cell_type": "markdown",
      "metadata": {
        "id": "vD2bjWCwioCA"
      },
      "source": [
        " ![image.png](data:image/webp;base64,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)"
      ]
    },
    {
      "cell_type": "code",
      "execution_count": null,
      "metadata": {
        "id": "oifUEw70ioCC"
      },
      "outputs": [],
      "source": []
    },
    {
      "cell_type": "markdown",
      "metadata": {
        "id": "GaCZOIoXioCD"
      },
      "source": [
        "### Histogram"
      ]
    },
    {
      "cell_type": "code",
      "execution_count": null,
      "metadata": {
        "id": "NjUk6m2mioCD"
      },
      "outputs": [],
      "source": []
    },
    {
      "cell_type": "code",
      "execution_count": null,
      "metadata": {
        "id": "yBNZccHsioCD"
      },
      "outputs": [],
      "source": []
    },
    {
      "cell_type": "code",
      "execution_count": null,
      "metadata": {
        "id": "utGyBhyrioCD"
      },
      "outputs": [],
      "source": []
    },
    {
      "cell_type": "markdown",
      "metadata": {
        "id": "sAPANKYJioCE"
      },
      "source": [
        "### Box Plot"
      ]
    },
    {
      "cell_type": "markdown",
      "metadata": {
        "id": "CkwDWxxfioCE"
      },
      "source": [
        "     \n",
        "     Q1-1.5IQR   Q1   median  Q3   Q3+1.5IQR\n",
        "                  |-----:-----|\n",
        "  o      |--------|     :     |--------|    o  o\n",
        "                  |-----:-----|\n",
        "outlier           <----------->            outlier\n",
        "                       IQR"
      ]
    },
    {
      "cell_type": "code",
      "execution_count": null,
      "metadata": {
        "id": "l-Ep3QimioCE"
      },
      "outputs": [],
      "source": []
    },
    {
      "cell_type": "code",
      "execution_count": null,
      "metadata": {
        "id": "sGSWKqVKioCE"
      },
      "outputs": [],
      "source": []
    },
    {
      "cell_type": "code",
      "execution_count": null,
      "metadata": {
        "id": "4Ji098YaioCE"
      },
      "outputs": [],
      "source": []
    },
    {
      "cell_type": "code",
      "execution_count": null,
      "metadata": {
        "id": "CznRCZ5MioCE"
      },
      "outputs": [],
      "source": []
    },
    {
      "cell_type": "markdown",
      "metadata": {
        "id": "70e9rsAsioCF"
      },
      "source": [
        "### Bar Plot"
      ]
    },
    {
      "cell_type": "code",
      "execution_count": null,
      "metadata": {
        "id": "on6c0we-ioCF"
      },
      "outputs": [],
      "source": []
    },
    {
      "cell_type": "code",
      "execution_count": null,
      "metadata": {
        "id": "QJoMHF0nioCF"
      },
      "outputs": [],
      "source": []
    },
    {
      "cell_type": "markdown",
      "metadata": {
        "id": "PzLlfoVbioCF"
      },
      "source": [
        "### Pie Chart (Don't!!)"
      ]
    },
    {
      "cell_type": "code",
      "execution_count": null,
      "metadata": {
        "id": "ga6Ny9LKioCF"
      },
      "outputs": [],
      "source": []
    },
    {
      "cell_type": "code",
      "execution_count": null,
      "metadata": {
        "id": "juNdDloHioCF"
      },
      "outputs": [],
      "source": []
    },
    {
      "cell_type": "markdown",
      "metadata": {
        "id": "oySK5s0JioCF"
      },
      "source": [
        "### Heat Map (Imshow)"
      ]
    },
    {
      "cell_type": "code",
      "execution_count": null,
      "metadata": {
        "id": "mvrthUhQioCF"
      },
      "outputs": [],
      "source": []
    },
    {
      "cell_type": "markdown",
      "metadata": {
        "id": "xhDl2ah_ioCF"
      },
      "source": [
        "### Scatter Plot"
      ]
    },
    {
      "cell_type": "code",
      "execution_count": null,
      "metadata": {
        "id": "srhGPcJ4ioCF"
      },
      "outputs": [],
      "source": []
    },
    {
      "cell_type": "code",
      "execution_count": null,
      "metadata": {
        "id": "dYoRu0daioCF"
      },
      "outputs": [],
      "source": []
    },
    {
      "cell_type": "code",
      "execution_count": null,
      "metadata": {
        "id": "kpqbfl6GioCG"
      },
      "outputs": [],
      "source": []
    },
    {
      "cell_type": "code",
      "execution_count": null,
      "metadata": {
        "id": "taM02rE0ioCG"
      },
      "outputs": [],
      "source": []
    },
    {
      "cell_type": "markdown",
      "metadata": {
        "id": "thANnh9wioCG"
      },
      "source": [
        "### Nested Plots (Arbitrary Layout)"
      ]
    },
    {
      "cell_type": "code",
      "execution_count": null,
      "metadata": {
        "id": "gSWV6QQ1ioCG"
      },
      "outputs": [],
      "source": []
    },
    {
      "cell_type": "code",
      "execution_count": null,
      "metadata": {
        "id": "izWkGE_pioCG"
      },
      "outputs": [],
      "source": []
    }
  ],
  "metadata": {
    "kernelspec": {
      "display_name": "Python 3 (ipykernel)",
      "language": "python",
      "name": "python3"
    },
    "language_info": {
      "codemirror_mode": {
        "name": "ipython",
        "version": 3
      },
      "file_extension": ".py",
      "mimetype": "text/x-python",
      "name": "python",
      "nbconvert_exporter": "python",
      "pygments_lexer": "ipython3",
      "version": "3.9.12"
    },
    "vscode": {
      "interpreter": {
        "hash": "df871b32a02ca8f5c7cad395780282f7bc9fb2149b13fa870530f359013ec513"
      }
    },
    "colab": {
      "provenance": []
    }
  },
  "nbformat": 4,
  "nbformat_minor": 0
}