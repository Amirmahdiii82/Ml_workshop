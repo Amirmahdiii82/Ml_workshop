{
 "cells": [
  {
   "cell_type": "markdown",
   "id": "964161bc",
   "metadata": {
    "tags": []
   },
   "source": [
    "<header style=\"\n",
    "  display: flex;\n",
    "  justify-content: space-between;\n",
    "  align-items: center;\n",
    "  padding: 20px;\n",
    "  background: #546E7A;\n",
    "  color: white;\n",
    "\">\n",
    "\n",
    "  <div class=\"header-left\">\n",
    "    <h1 style=\"\n",
    "      margin-right: 10px;\n",
    "    \">Numpy</h1>\n",
    "  </div>\n",
    "</header>"
   ]
  },
  {
   "cell_type": "markdown",
   "id": "29d06b6c",
   "metadata": {},
   "source": [
    "<hr>"
   ]
  },
  {
   "cell_type": "markdown",
   "id": "210ca807",
   "metadata": {},
   "source": [
    "# making arrays "
   ]
  },
  {
   "cell_type": "code",
   "execution_count": 1,
   "id": "9ff1cfef",
   "metadata": {
    "tags": []
   },
   "outputs": [],
   "source": [
    "import numpy as np\n",
    "import random"
   ]
  },
  {
   "cell_type": "code",
   "execution_count": 8,
   "id": "69b03053",
   "metadata": {
    "tags": []
   },
   "outputs": [
    {
     "data": {
      "text/plain": [
       "array([ 2,  3,  5,  7, 11])"
      ]
     },
     "execution_count": 8,
     "metadata": {},
     "output_type": "execute_result"
    }
   ],
   "source": [
    "# 1d array (vector)\n",
    "x = [2, 3, 5, 7, 11]\n",
    "numbers = np.array(x)  \n",
    "numbers"
   ]
  },
  {
   "cell_type": "code",
   "execution_count": 3,
   "id": "6e49f497",
   "metadata": {
    "tags": []
   },
   "outputs": [
    {
     "data": {
      "text/plain": [
       "(numpy.ndarray, array([ 2,  3,  5,  7, 11]))"
      ]
     },
     "execution_count": 3,
     "metadata": {},
     "output_type": "execute_result"
    }
   ],
   "source": [
    "type(numbers), numbers"
   ]
  },
  {
   "cell_type": "code",
   "execution_count": 4,
   "id": "580854b6",
   "metadata": {},
   "outputs": [
    {
     "data": {
      "text/plain": [
       "dtype('int32')"
      ]
     },
     "execution_count": 4,
     "metadata": {},
     "output_type": "execute_result"
    }
   ],
   "source": [
    "numbers.dtype"
   ]
  },
  {
   "cell_type": "code",
   "execution_count": 6,
   "id": "74ab53b0",
   "metadata": {
    "tags": []
   },
   "outputs": [
    {
     "data": {
      "text/plain": [
       "array([[1, 2, 3],\n",
       "       [4, 5, 6]])"
      ]
     },
     "execution_count": 6,
     "metadata": {},
     "output_type": "execute_result"
    }
   ],
   "source": [
    "#  2d  array\n",
    "np.array([[1, 2, 3], [4, 5, 6]])    "
   ]
  },
  {
   "cell_type": "code",
   "execution_count": 7,
   "id": "127702e4-fee9-4e54-bf71-34d5a4f531d4",
   "metadata": {
    "tags": []
   },
   "outputs": [
    {
     "data": {
      "text/plain": [
       "array([1, 2])"
      ]
     },
     "execution_count": 7,
     "metadata": {},
     "output_type": "execute_result"
    }
   ],
   "source": [
    "a = [1, 2]\n",
    "np.asarray(a)"
   ]
  },
  {
   "cell_type": "code",
   "execution_count": 12,
   "id": "3a59a16b-1a25-4754-a48a-5037ed752a70",
   "metadata": {
    "tags": []
   },
   "outputs": [
    {
     "data": {
      "text/plain": [
       "array([ 0,  1,  2,  3,  4,  5,  6,  7,  8,  9, 10, 11, 12, 13, 14])"
      ]
     },
     "execution_count": 12,
     "metadata": {},
     "output_type": "execute_result"
    }
   ],
   "source": [
    "np.arange(15)"
   ]
  },
  {
   "cell_type": "code",
   "execution_count": 13,
   "id": "892bbff9-d96a-42e0-9295-8cac2c0b1411",
   "metadata": {
    "tags": []
   },
   "outputs": [
    {
     "data": {
      "text/plain": [
       "array([1., 1., 1., 1., 1., 1., 1., 1., 1., 1.])"
      ]
     },
     "execution_count": 13,
     "metadata": {},
     "output_type": "execute_result"
    }
   ],
   "source": [
    "np.ones(10)"
   ]
  },
  {
   "cell_type": "code",
   "execution_count": 14,
   "id": "676be8b6-aa27-41fe-b549-db69bf3ca66c",
   "metadata": {
    "tags": []
   },
   "outputs": [
    {
     "data": {
      "text/plain": [
       "array([1, 1, 1, 1, 1])"
      ]
     },
     "execution_count": 14,
     "metadata": {},
     "output_type": "execute_result"
    }
   ],
   "source": [
    "np.ones_like(numbers)"
   ]
  },
  {
   "cell_type": "code",
   "execution_count": 15,
   "id": "aee86231",
   "metadata": {
    "tags": []
   },
   "outputs": [
    {
     "data": {
      "text/plain": [
       "array([0, 0, 0, 0])"
      ]
     },
     "execution_count": 15,
     "metadata": {},
     "output_type": "execute_result"
    }
   ],
   "source": [
    "zero = np.zeros(4, dtype=int)\n",
    "zero"
   ]
  },
  {
   "cell_type": "markdown",
   "id": "c5dd4c4c-9323-49f4-b607-ac7c7ec85b53",
   "metadata": {},
   "source": [
    "<p style='background-color:#FDD835;color:black;border-radius:10px;margin:5px;padding:5px;'>\n",
    "zeroes and zeroes_like are as same as ones and ones_like except use zero instead of one\n",
    "</p>"
   ]
  },
  {
   "cell_type": "code",
   "execution_count": 20,
   "id": "365e2010-7ae4-45f6-9400-3179a2911bc3",
   "metadata": {
    "tags": []
   },
   "outputs": [
    {
     "data": {
      "text/plain": [
       "array([1, 1, 1, 1, 1, 1, 1, 1, 1, 1])"
      ]
     },
     "execution_count": 20,
     "metadata": {},
     "output_type": "execute_result"
    }
   ],
   "source": [
    "np.empty(10).astype(int)"
   ]
  },
  {
   "cell_type": "code",
   "execution_count": 21,
   "id": "574eee05-5117-450e-9dd5-722731b2d3cf",
   "metadata": {
    "tags": []
   },
   "outputs": [
    {
     "data": {
      "text/plain": [
       "array([[25, 25, 25, 25, 25],\n",
       "       [25, 25, 25, 25, 25],\n",
       "       [25, 25, 25, 25, 25]])"
      ]
     },
     "execution_count": 21,
     "metadata": {},
     "output_type": "execute_result"
    }
   ],
   "source": [
    "full = np.full((3,5), 25)\n",
    "full"
   ]
  },
  {
   "cell_type": "code",
   "execution_count": 22,
   "id": "0c25d468-d09c-453b-b946-91ad3fec836c",
   "metadata": {
    "tags": []
   },
   "outputs": [
    {
     "data": {
      "text/plain": [
       "2"
      ]
     },
     "execution_count": 22,
     "metadata": {},
     "output_type": "execute_result"
    }
   ],
   "source": [
    "full.ndim"
   ]
  },
  {
   "cell_type": "code",
   "execution_count": 26,
   "id": "503fc19c-37dc-42fd-89de-4ba0eef537d5",
   "metadata": {
    "tags": []
   },
   "outputs": [
    {
     "data": {
      "text/plain": [
       "array([20.        , 24.28571429, 28.57142857, 32.85714286, 37.14285714,\n",
       "       41.42857143, 45.71428571, 50.        ])"
      ]
     },
     "execution_count": 26,
     "metadata": {},
     "output_type": "execute_result"
    }
   ],
   "source": [
    "linspace = np.linspace(20, 50, 8)\n",
    "linspace"
   ]
  },
  {
   "cell_type": "markdown",
   "id": "3b87eb33",
   "metadata": {},
   "source": [
    "# data types"
   ]
  },
  {
   "cell_type": "code",
   "execution_count": 27,
   "id": "b1679740",
   "metadata": {
    "tags": []
   },
   "outputs": [
    {
     "data": {
      "text/plain": [
       "dtype('int32')"
      ]
     },
     "execution_count": 27,
     "metadata": {},
     "output_type": "execute_result"
    }
   ],
   "source": [
    "numbers.dtype"
   ]
  },
  {
   "cell_type": "code",
   "execution_count": 28,
   "id": "e93e1797",
   "metadata": {
    "tags": []
   },
   "outputs": [
    {
     "data": {
      "text/plain": [
       "array([[0.2, 0.3, 0.4],\n",
       "       [0.5, 0.6, 0.7]])"
      ]
     },
     "execution_count": 28,
     "metadata": {},
     "output_type": "execute_result"
    }
   ],
   "source": [
    "floats = np.array([[0.2, 0.3, 0.4],[0.5, 0.6, 0.7]])\n",
    "floats"
   ]
  },
  {
   "cell_type": "code",
   "execution_count": 29,
   "id": "fc9cbe28",
   "metadata": {
    "tags": []
   },
   "outputs": [
    {
     "data": {
      "text/plain": [
       "dtype('float64')"
      ]
     },
     "execution_count": 29,
     "metadata": {},
     "output_type": "execute_result"
    }
   ],
   "source": [
    "floats.dtype"
   ]
  },
  {
   "cell_type": "markdown",
   "id": "573b65d3",
   "metadata": {},
   "source": [
    "<img src='dtypes.png' style='border: 5px solid #555;' width=70% align=left>"
   ]
  },
  {
   "cell_type": "code",
   "execution_count": 5,
   "id": "0c78d10e",
   "metadata": {},
   "outputs": [
    {
     "name": "stdout",
     "output_type": "stream",
     "text": [
      "[ 2.  3.  5.  7. 11.]\n"
     ]
    },
    {
     "data": {
      "text/plain": [
       "dtype('float64')"
      ]
     },
     "execution_count": 5,
     "metadata": {},
     "output_type": "execute_result"
    }
   ],
   "source": [
    "## Type casting\n",
    "\n",
    "t_change = np.array(numbers, dtype=float)\n",
    "print(t_change)\n",
    "t_change.dtype"
   ]
  },
  {
   "cell_type": "code",
   "execution_count": null,
   "id": "66af0781-e263-4f5f-a241-2840f4259437",
   "metadata": {},
   "outputs": [],
   "source": [
    "np.empty(10).astype(int)"
   ]
  },
  {
   "cell_type": "markdown",
   "id": "46feb4bd",
   "metadata": {},
   "source": [
    "# dimensions and size of arrays"
   ]
  },
  {
   "cell_type": "code",
   "execution_count": 30,
   "id": "b4b76352",
   "metadata": {
    "tags": []
   },
   "outputs": [
    {
     "data": {
      "text/plain": [
       "2"
      ]
     },
     "execution_count": 30,
     "metadata": {},
     "output_type": "execute_result"
    }
   ],
   "source": [
    "floats.ndim   #its means floats array is 2d array"
   ]
  },
  {
   "cell_type": "code",
   "execution_count": 31,
   "id": "cf5ba0bc",
   "metadata": {
    "tags": []
   },
   "outputs": [
    {
     "data": {
      "text/plain": [
       "1"
      ]
     },
     "execution_count": 31,
     "metadata": {},
     "output_type": "execute_result"
    }
   ],
   "source": [
    " numbers.ndim  #its means numbers array is 1d array"
   ]
  },
  {
   "cell_type": "code",
   "execution_count": 32,
   "id": "c3552c13",
   "metadata": {
    "tags": []
   },
   "outputs": [
    {
     "data": {
      "text/plain": [
       "(2, 3)"
      ]
     },
     "execution_count": 32,
     "metadata": {},
     "output_type": "execute_result"
    }
   ],
   "source": [
    "floats.shape"
   ]
  },
  {
   "cell_type": "code",
   "execution_count": 33,
   "id": "5ebe380c",
   "metadata": {
    "tags": []
   },
   "outputs": [
    {
     "data": {
      "text/plain": [
       "(5,)"
      ]
     },
     "execution_count": 33,
     "metadata": {},
     "output_type": "execute_result"
    }
   ],
   "source": [
    "numbers.shape"
   ]
  },
  {
   "cell_type": "markdown",
   "id": "159b9603",
   "metadata": {},
   "source": [
    "<p style='background-color:#FDD835;color:black;border-radius:10px;margin:5px;padding:5px;'>\n",
    "    diffrence beetwen ndim and shape is ndim return exacly dimensions number but shape return a tuple and vectors of each dimensions\n",
    "</p>"
   ]
  },
  {
   "cell_type": "markdown",
   "id": "34bc9fff",
   "metadata": {},
   "source": [
    "# processing arrays"
   ]
  },
  {
   "cell_type": "code",
   "execution_count": 38,
   "id": "c85d0290",
   "metadata": {
    "tags": []
   },
   "outputs": [
    {
     "name": "stdout",
     "output_type": "stream",
     "text": [
      "0.2  0.3  0.4  \n",
      "0.5  0.6  0.7  \n"
     ]
    }
   ],
   "source": [
    "# not recommended way\n",
    "for row in floats :\n",
    "    for col in row :\n",
    "        print(col, end='  ')\n",
    "    print()"
   ]
  },
  {
   "cell_type": "code",
   "execution_count": 39,
   "id": "bf5767ce",
   "metadata": {
    "tags": []
   },
   "outputs": [
    {
     "name": "stdout",
     "output_type": "stream",
     "text": [
      "0.2  0.3  0.4  0.5  0.6  0.7  "
     ]
    }
   ],
   "source": [
    "for i in floats.flat:   # flat make n-d arrays to a vector\n",
    "    print(i, end='  ')"
   ]
  },
  {
   "cell_type": "markdown",
   "id": "702307d4",
   "metadata": {},
   "source": [
    "# making special arrays "
   ]
  },
  {
   "cell_type": "code",
   "execution_count": 40,
   "id": "fbef8988",
   "metadata": {
    "tags": []
   },
   "outputs": [
    {
     "data": {
      "text/plain": [
       "array([[[20.        , 24.28571429],\n",
       "        [28.57142857, 32.85714286]],\n",
       "\n",
       "       [[37.14285714, 41.42857143],\n",
       "        [45.71428571, 50.        ]]])"
      ]
     },
     "execution_count": 40,
     "metadata": {},
     "output_type": "execute_result"
    }
   ],
   "source": [
    "linspace.reshape(2,2,2)   # be careful mul of reshape args must be equal with arrays  size"
   ]
  },
  {
   "cell_type": "code",
   "execution_count": 50,
   "id": "cdae0a41",
   "metadata": {
    "tags": []
   },
   "outputs": [
    {
     "data": {
      "text/plain": [
       "array([[[0],\n",
       "        [1]],\n",
       "\n",
       "       [[2],\n",
       "        [3]],\n",
       "\n",
       "       [[4],\n",
       "        [5]]])"
      ]
     },
     "execution_count": 50,
     "metadata": {},
     "output_type": "execute_result"
    }
   ],
   "source": [
    "z = np.arange(6)#.reshape(3,1,2)\n",
    "z.reshape(3,2,1)"
   ]
  },
  {
   "cell_type": "markdown",
   "id": "3957d554",
   "metadata": {},
   "source": [
    "# list or array(speed test)\n"
   ]
  },
  {
   "cell_type": "code",
   "execution_count": 51,
   "id": "58111b0e",
   "metadata": {
    "tags": []
   },
   "outputs": [
    {
     "name": "stdout",
     "output_type": "stream",
     "text": [
      "6.42 ms ± 121 µs per loop (mean ± std. dev. of 7 runs, 100 loops each)\n"
     ]
    }
   ],
   "source": [
    "%timeit python_rolls_list = [random.randrange(1,7) for i in range(0, 6000)]"
   ]
  },
  {
   "cell_type": "code",
   "execution_count": 52,
   "id": "1a3bbd1b",
   "metadata": {
    "tags": []
   },
   "outputs": [
    {
     "name": "stdout",
     "output_type": "stream",
     "text": [
      "115 µs ± 518 ns per loop (mean ± std. dev. of 7 runs, 10,000 loops each)\n"
     ]
    }
   ],
   "source": [
    "%timeit numpy_rolls_list = np.random.randint(1, 7, 6000)"
   ]
  },
  {
   "cell_type": "markdown",
   "id": "e4d751d2",
   "metadata": {},
   "source": [
    "# operations"
   ]
  },
  {
   "cell_type": "markdown",
   "id": "6dbec789",
   "metadata": {},
   "source": [
    "<img src='1.jpg' style='border: 5px solid #555;' width=70% align=left>\n",
    "<img src='2.jpg' style='border: 5px solid #555;' width=70% align=left>"
   ]
  },
  {
   "cell_type": "code",
   "execution_count": 53,
   "id": "caf41fe4",
   "metadata": {
    "tags": []
   },
   "outputs": [
    {
     "data": {
      "text/plain": [
       "array([False, False,  True,  True,  True])"
      ]
     },
     "execution_count": 53,
     "metadata": {},
     "output_type": "execute_result"
    }
   ],
   "source": [
    "numbers\n",
    "numbers >= 5"
   ]
  },
  {
   "cell_type": "code",
   "execution_count": 10,
   "id": "1485232e",
   "metadata": {
    "tags": []
   },
   "outputs": [
    {
     "name": "stdout",
     "output_type": "stream",
     "text": [
      "a:  [[0.95129655 0.01187968]\n",
      " [0.13851414 0.00928922]]\n",
      "b :  [[0.98090947 0.96781753]\n",
      " [0.78899467 0.39539561]] \n",
      "\n",
      "element-wise :  [[0.93313579 0.01149736]\n",
      " [0.10928692 0.00367292]] \n",
      "\n",
      "matrix mult [[0.9425088  0.92537865]\n",
      " [0.14319897 0.13772933]]\n"
     ]
    },
    {
     "data": {
      "text/plain": [
       "False"
      ]
     },
     "execution_count": 10,
     "metadata": {},
     "output_type": "execute_result"
    }
   ],
   "source": [
    "a=np.random.rand(2,2)\n",
    "b=np.random.rand(2,2)\n",
    "print('a: ',a)\n",
    "print('b : ', b,'\\n')\n",
    "print('element-wise : ',a*b,'\\n')\n",
    "print('matrix mult',a@b,)\n",
    "np.dot(a, b)\n",
    "np.dot(a, b) == a@b\n",
    "np.dot(a, b) is a@b"
   ]
  },
  {
   "cell_type": "code",
   "execution_count": 11,
   "id": "96b02fe3",
   "metadata": {
    "tags": []
   },
   "outputs": [
    {
     "data": {
      "text/plain": [
       "array([1.92635246, 0.29560671])"
      ]
     },
     "execution_count": 11,
     "metadata": {},
     "output_type": "execute_result"
    }
   ],
   "source": [
    "a@b.shape"
   ]
  },
  {
   "cell_type": "code",
   "execution_count": 12,
   "id": "b5d9edc1",
   "metadata": {},
   "outputs": [
    {
     "data": {
      "text/plain": [
       "array([[0.9425088 , 0.92537865],\n",
       "       [0.14319897, 0.13772933]])"
      ]
     },
     "execution_count": 12,
     "metadata": {},
     "output_type": "execute_result"
    }
   ],
   "source": [
    "np.dot(a, b)"
   ]
  },
  {
   "cell_type": "code",
   "execution_count": 14,
   "id": "6f8d897a",
   "metadata": {},
   "outputs": [
    {
     "data": {
      "text/plain": [
       "89.40972222222223"
      ]
     },
     "execution_count": 14,
     "metadata": {},
     "output_type": "execute_result"
    }
   ],
   "source": [
    "grades = np.linspace(20, 50, 12, dtype= int).reshape(4, 3)\n",
    "grades.sum()\n",
    "grades.min()\n",
    "grades.max()\n",
    "grades.mean()\n",
    "grades.std()\n",
    "grades.var()"
   ]
  },
  {
   "cell_type": "markdown",
   "id": "5b27fa44",
   "metadata": {},
   "source": [
    "# axis"
   ]
  },
  {
   "cell_type": "markdown",
   "id": "0f98fca0",
   "metadata": {},
   "source": [
    "<img src='axis.png' style='border: 5px solid #555;' width=70% align=left>"
   ]
  },
  {
   "cell_type": "code",
   "execution_count": null,
   "id": "2cb0da78",
   "metadata": {},
   "outputs": [
    {
     "data": {
      "text/plain": [
       "array([32, 34, 37])"
      ]
     },
     "execution_count": 29,
     "metadata": {},
     "output_type": "execute_result"
    }
   ],
   "source": [
    "grades.mean(axis=0 , dtype=int)"
   ]
  },
  {
   "cell_type": "code",
   "execution_count": null,
   "id": "a05bdc6e",
   "metadata": {},
   "outputs": [
    {
     "data": {
      "text/plain": [
       "array([2.05480467, 2.05480467, 2.05480467, 2.44948974])"
      ]
     },
     "execution_count": 30,
     "metadata": {},
     "output_type": "execute_result"
    }
   ],
   "source": [
    "grades.std(axis=1)"
   ]
  },
  {
   "cell_type": "code",
   "execution_count": null,
   "id": "1470004d",
   "metadata": {},
   "outputs": [
    {
     "data": {
      "text/plain": [
       "array([5.65685425, 5.83095189, 6.08276253])"
      ]
     },
     "execution_count": 31,
     "metadata": {},
     "output_type": "execute_result"
    }
   ],
   "source": [
    "np.sqrt(grades.mean(axis=0 , dtype=int))"
   ]
  },
  {
   "cell_type": "markdown",
   "id": "525dac32",
   "metadata": {},
   "source": [
    "# slicing"
   ]
  },
  {
   "cell_type": "code",
   "execution_count": 15,
   "id": "88b98c87",
   "metadata": {},
   "outputs": [
    {
     "data": {
      "text/plain": [
       "array([[20, 22, 25],\n",
       "       [28, 30, 33],\n",
       "       [36, 39, 41],\n",
       "       [44, 47, 50]])"
      ]
     },
     "execution_count": 15,
     "metadata": {},
     "output_type": "execute_result"
    }
   ],
   "source": [
    "grades"
   ]
  },
  {
   "cell_type": "code",
   "execution_count": null,
   "id": "ee30a9f4",
   "metadata": {},
   "outputs": [
    {
     "data": {
      "text/plain": [
       "33"
      ]
     },
     "execution_count": 33,
     "metadata": {},
     "output_type": "execute_result"
    }
   ],
   "source": [
    "grades[1, 2]  # row=0, col=1"
   ]
  },
  {
   "cell_type": "code",
   "execution_count": null,
   "id": "60de67fd",
   "metadata": {},
   "outputs": [
    {
     "data": {
      "text/plain": [
       "array([28, 30, 33])"
      ]
     },
     "execution_count": 34,
     "metadata": {},
     "output_type": "execute_result"
    }
   ],
   "source": [
    "grades[1]   #row =1"
   ]
  },
  {
   "cell_type": "code",
   "execution_count": null,
   "id": "6734c867",
   "metadata": {},
   "outputs": [
    {
     "data": {
      "text/plain": [
       "array([[28, 30, 33],\n",
       "       [36, 39, 41]])"
      ]
     },
     "execution_count": 35,
     "metadata": {},
     "output_type": "execute_result"
    }
   ],
   "source": [
    "grades[1:3] #col=1,2"
   ]
  },
  {
   "cell_type": "code",
   "execution_count": null,
   "id": "612ad868",
   "metadata": {},
   "outputs": [
    {
     "data": {
      "text/plain": [
       "array([20, 28, 36, 44])"
      ]
     },
     "execution_count": 36,
     "metadata": {},
     "output_type": "execute_result"
    }
   ],
   "source": [
    "grades[:,0]   # its mean that all first col elements"
   ]
  },
  {
   "cell_type": "code",
   "execution_count": null,
   "id": "157e5a77",
   "metadata": {},
   "outputs": [
    {
     "data": {
      "text/plain": [
       "array([[22, 25],\n",
       "       [30, 33],\n",
       "       [39, 41],\n",
       "       [47, 50]])"
      ]
     },
     "execution_count": 37,
     "metadata": {},
     "output_type": "execute_result"
    }
   ],
   "source": [
    "grades[:,1:3]"
   ]
  },
  {
   "cell_type": "code",
   "execution_count": null,
   "id": "98f59f07",
   "metadata": {},
   "outputs": [
    {
     "data": {
      "text/plain": [
       "array([[22, 25],\n",
       "       [30, 33],\n",
       "       [39, 41],\n",
       "       [47, 50]])"
      ]
     },
     "execution_count": 38,
     "metadata": {},
     "output_type": "execute_result"
    }
   ],
   "source": [
    "grades[:,[1,2]]"
   ]
  },
  {
   "cell_type": "markdown",
   "id": "6d618565",
   "metadata": {},
   "source": [
    "# view and copy "
   ]
  },
  {
   "cell_type": "markdown",
   "id": "9c430c76",
   "metadata": {},
   "source": [
    "<p style=\"background-color: #FDD835;color:#000;border-radius:10px;margin:5px;padding:5px;\">\n",
    "    The main difference between a copy and a view of an array is that the copy is a new array, and the view is just a view of the original array.\n",
    "The copy owns the data and any changes made to the copy will not affect original array, and any changes made to the original array will not affect the copy.\n",
    "</p>"
   ]
  },
  {
   "cell_type": "code",
   "execution_count": 56,
   "id": "c7229205",
   "metadata": {
    "tags": []
   },
   "outputs": [
    {
     "data": {
      "text/plain": [
       "array([[1, 2, 3],\n",
       "       [4, 5, 6]])"
      ]
     },
     "execution_count": 56,
     "metadata": {},
     "output_type": "execute_result"
    }
   ],
   "source": [
    "nums = np.arange(1,7).reshape(2,3)\n",
    "nums"
   ]
  },
  {
   "cell_type": "code",
   "execution_count": 57,
   "id": "c89fc598",
   "metadata": {
    "tags": []
   },
   "outputs": [
    {
     "data": {
      "text/plain": [
       "array([[1, 2, 3],\n",
       "       [4, 5, 6]])"
      ]
     },
     "execution_count": 57,
     "metadata": {},
     "output_type": "execute_result"
    }
   ],
   "source": [
    "nums2 = nums.view()\n",
    "nums2"
   ]
  },
  {
   "cell_type": "code",
   "execution_count": 58,
   "id": "bca1a0ad",
   "metadata": {
    "tags": []
   },
   "outputs": [
    {
     "data": {
      "text/plain": [
       "array([[1, 2, 3],\n",
       "       [4, 5, 7]])"
      ]
     },
     "execution_count": 58,
     "metadata": {},
     "output_type": "execute_result"
    }
   ],
   "source": [
    "nums2[1, 2] = 7\n",
    "nums"
   ]
  },
  {
   "cell_type": "code",
   "execution_count": 59,
   "id": "aa93efa6",
   "metadata": {
    "tags": []
   },
   "outputs": [
    {
     "data": {
      "text/plain": [
       "array([[1, 2, 3],\n",
       "       [4, 5, 7]])"
      ]
     },
     "execution_count": 59,
     "metadata": {},
     "output_type": "execute_result"
    }
   ],
   "source": [
    "nums3 = nums.copy()\n",
    "nums3[1, 2] = 8\n",
    "nums"
   ]
  },
  {
   "cell_type": "code",
   "execution_count": 61,
   "id": "b0a9b07a",
   "metadata": {
    "tags": []
   },
   "outputs": [
    {
     "data": {
      "text/plain": [
       "False"
      ]
     },
     "execution_count": 61,
     "metadata": {},
     "output_type": "execute_result"
    }
   ],
   "source": [
    "nums is nums3"
   ]
  },
  {
   "cell_type": "markdown",
   "id": "83bd3d13",
   "metadata": {},
   "source": [
    "# transpose"
   ]
  },
  {
   "cell_type": "code",
   "execution_count": 62,
   "id": "2ef62bb8",
   "metadata": {
    "tags": []
   },
   "outputs": [
    {
     "data": {
      "text/plain": [
       "array([[0, 2],\n",
       "       [1, 3]])"
      ]
     },
     "execution_count": 62,
     "metadata": {},
     "output_type": "execute_result"
    }
   ],
   "source": [
    "x = np.arange(4).reshape((2,2))\n",
    "np.transpose(x)"
   ]
  },
  {
   "cell_type": "code",
   "execution_count": 63,
   "id": "aaa5da9c",
   "metadata": {
    "tags": []
   },
   "outputs": [
    {
     "data": {
      "text/plain": [
       "(2, 1, 3)"
      ]
     },
     "execution_count": 63,
     "metadata": {},
     "output_type": "execute_result"
    }
   ],
   "source": [
    "x = np.ones((1, 2, 3))\n",
    "np.transpose(x, (1, 0, 2)).shape"
   ]
  }
 ],
 "metadata": {
  "kernelspec": {
   "display_name": "Python 3 (ipykernel)",
   "language": "python",
   "name": "python3"
  },
  "language_info": {
   "codemirror_mode": {
    "name": "ipython",
    "version": 3
   },
   "file_extension": ".py",
   "mimetype": "text/x-python",
   "name": "python",
   "nbconvert_exporter": "python",
   "pygments_lexer": "ipython3",
   "version": "3.9.12"
  },
  "vscode": {
   "interpreter": {
    "hash": "cad9f2a989210dd50271cb94b675a3f30c608b6c8c2326adab38a5af9085cd4c"
   }
  }
 },
 "nbformat": 4,
 "nbformat_minor": 5
}
