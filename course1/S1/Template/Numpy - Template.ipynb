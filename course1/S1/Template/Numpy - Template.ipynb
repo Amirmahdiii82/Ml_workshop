{
 "cells": [
  {
   "cell_type": "markdown",
   "id": "964161bc",
   "metadata": {
    "tags": []
   },
   "source": [
    "<header style=\"\n",
    "  display: flex;\n",
    "  justify-content: space-between;\n",
    "  align-items: center;\n",
    "  padding: 20px;\n",
    "  background: #546E7A;\n",
    "  color: white;\n",
    "\">\n",
    "\n",
    "  <div class=\"header-left\">\n",
    "    <h1 style=\"\n",
    "      margin-right: 10px;\n",
    "    \">Numpy</h1>\n",
    "  </div>\n",
    "</header>"
   ]
  },
  {
   "cell_type": "markdown",
   "id": "29d06b6c",
   "metadata": {},
   "source": [
    "<hr>"
   ]
  },
  {
   "cell_type": "markdown",
   "id": "210ca807",
   "metadata": {},
   "source": [
    "# making arrays "
   ]
  },
  {
   "cell_type": "code",
   "execution_count": null,
   "id": "9ff1cfef",
   "metadata": {
    "tags": []
   },
   "outputs": [],
   "source": []
  },
  {
   "cell_type": "code",
   "execution_count": 21,
   "id": "69b03053",
   "metadata": {
    "tags": []
   },
   "outputs": [],
   "source": [
    "# 1d array (vector)\n"
   ]
  },
  {
   "cell_type": "code",
   "execution_count": null,
   "id": "6e49f497",
   "metadata": {
    "tags": []
   },
   "outputs": [],
   "source": []
  },
  {
   "cell_type": "code",
   "execution_count": null,
   "id": "580854b6",
   "metadata": {},
   "outputs": [],
   "source": []
  },
  {
   "cell_type": "code",
   "execution_count": null,
   "id": "74ab53b0",
   "metadata": {
    "tags": []
   },
   "outputs": [],
   "source": []
  },
  {
   "cell_type": "code",
   "execution_count": null,
   "id": "127702e4-fee9-4e54-bf71-34d5a4f531d4",
   "metadata": {
    "tags": []
   },
   "outputs": [],
   "source": []
  },
  {
   "cell_type": "code",
   "execution_count": null,
   "id": "3a59a16b-1a25-4754-a48a-5037ed752a70",
   "metadata": {
    "tags": []
   },
   "outputs": [],
   "source": []
  },
  {
   "cell_type": "code",
   "execution_count": null,
   "id": "892bbff9-d96a-42e0-9295-8cac2c0b1411",
   "metadata": {
    "tags": []
   },
   "outputs": [],
   "source": []
  },
  {
   "cell_type": "code",
   "execution_count": null,
   "id": "676be8b6-aa27-41fe-b549-db69bf3ca66c",
   "metadata": {
    "tags": []
   },
   "outputs": [],
   "source": []
  },
  {
   "cell_type": "code",
   "execution_count": null,
   "id": "aee86231",
   "metadata": {
    "tags": []
   },
   "outputs": [],
   "source": []
  },
  {
   "cell_type": "markdown",
   "id": "c5dd4c4c-9323-49f4-b607-ac7c7ec85b53",
   "metadata": {},
   "source": [
    "<p style='background-color:#FDD835;color:black;border-radius:10px;margin:5px;padding:5px;'>\n",
    "zeroes and zeroes_like are as same as ones and ones_like except use zero instead of one\n",
    "</p>"
   ]
  },
  {
   "cell_type": "code",
   "execution_count": null,
   "id": "365e2010-7ae4-45f6-9400-3179a2911bc3",
   "metadata": {
    "tags": []
   },
   "outputs": [],
   "source": []
  },
  {
   "cell_type": "code",
   "execution_count": null,
   "id": "574eee05-5117-450e-9dd5-722731b2d3cf",
   "metadata": {
    "tags": []
   },
   "outputs": [],
   "source": []
  },
  {
   "cell_type": "code",
   "execution_count": null,
   "id": "0c25d468-d09c-453b-b946-91ad3fec836c",
   "metadata": {
    "tags": []
   },
   "outputs": [],
   "source": []
  },
  {
   "cell_type": "code",
   "execution_count": null,
   "id": "1aa03029-5911-4155-82f3-3684b36710f5",
   "metadata": {
    "jp-MarkdownHeadingCollapsed": true,
    "tags": []
   },
   "outputs": [],
   "source": []
  },
  {
   "cell_type": "markdown",
   "id": "3c48c65d-cded-4189-b174-951785f36ff1",
   "metadata": {},
   "source": [
    "# data types"
   ]
  },
  {
   "cell_type": "code",
   "execution_count": null,
   "id": "b1679740",
   "metadata": {
    "tags": []
   },
   "outputs": [],
   "source": []
  },
  {
   "cell_type": "code",
   "execution_count": null,
   "id": "e93e1797",
   "metadata": {
    "tags": []
   },
   "outputs": [],
   "source": []
  },
  {
   "cell_type": "code",
   "execution_count": 38,
   "id": "fc9cbe28",
   "metadata": {
    "tags": []
   },
   "outputs": [
    {
     "data": {
      "text/plain": [
       "dtype('float64')"
      ]
     },
     "execution_count": 38,
     "metadata": {},
     "output_type": "execute_result"
    }
   ],
   "source": [
    "floats.dtype"
   ]
  },
  {
   "cell_type": "markdown",
   "id": "573b65d3",
   "metadata": {},
   "source": [
    "<img src='dtypes.png' style='border: 5px solid #555;' width=70% align=left>"
   ]
  },
  {
   "cell_type": "code",
   "execution_count": null,
   "id": "0c78d10e",
   "metadata": {},
   "outputs": [],
   "source": []
  },
  {
   "cell_type": "code",
   "execution_count": null,
   "id": "acb860c2-0ffc-41a1-8096-c8bd9679d65e",
   "metadata": {},
   "outputs": [],
   "source": []
  },
  {
   "cell_type": "markdown",
   "id": "46feb4bd",
   "metadata": {},
   "source": [
    "# dimensions and size of arrays"
   ]
  },
  {
   "cell_type": "code",
   "execution_count": null,
   "id": "b4b76352",
   "metadata": {
    "tags": []
   },
   "outputs": [],
   "source": []
  },
  {
   "cell_type": "code",
   "execution_count": null,
   "id": "cf5ba0bc",
   "metadata": {
    "tags": []
   },
   "outputs": [],
   "source": []
  },
  {
   "cell_type": "code",
   "execution_count": null,
   "id": "c3552c13",
   "metadata": {
    "tags": []
   },
   "outputs": [],
   "source": []
  },
  {
   "cell_type": "markdown",
   "id": "159b9603",
   "metadata": {},
   "source": [
    "<p style='background-color:#FDD835;color:black;border-radius:10px;margin:5px;padding:5px;'>\n",
    "    diffrence beetwen ndim and shape is ndim return exacly dimensions number but shape return a tuple and vectors of each dimensions\n",
    "</p>"
   ]
  },
  {
   "cell_type": "markdown",
   "id": "34bc9fff",
   "metadata": {},
   "source": [
    "# processing arrays"
   ]
  },
  {
   "cell_type": "code",
   "execution_count": 3,
   "id": "c85d0290",
   "metadata": {
    "tags": []
   },
   "outputs": [],
   "source": [
    "# not recommended way\n"
   ]
  },
  {
   "cell_type": "code",
   "execution_count": null,
   "id": "bf5767ce",
   "metadata": {
    "tags": []
   },
   "outputs": [],
   "source": []
  },
  {
   "cell_type": "markdown",
   "id": "702307d4",
   "metadata": {},
   "source": [
    "# making special arrays "
   ]
  },
  {
   "cell_type": "code",
   "execution_count": null,
   "id": "fbef8988",
   "metadata": {
    "tags": []
   },
   "outputs": [],
   "source": []
  },
  {
   "cell_type": "code",
   "execution_count": null,
   "id": "cdae0a41",
   "metadata": {
    "tags": []
   },
   "outputs": [],
   "source": []
  },
  {
   "cell_type": "markdown",
   "id": "3957d554",
   "metadata": {},
   "source": [
    "# list or array(speed test)\n"
   ]
  },
  {
   "cell_type": "code",
   "execution_count": null,
   "id": "58111b0e",
   "metadata": {
    "tags": []
   },
   "outputs": [],
   "source": [
    "%timeit python_rolls_list = [random.randrange(1,7) for i in range(0, 6000)]"
   ]
  },
  {
   "cell_type": "code",
   "execution_count": null,
   "id": "1a3bbd1b",
   "metadata": {
    "tags": []
   },
   "outputs": [],
   "source": [
    "%timeit numpy_rolls_list = np.random.randint(1, 7, 6000)"
   ]
  },
  {
   "cell_type": "markdown",
   "id": "e4d751d2",
   "metadata": {},
   "source": [
    "# operations"
   ]
  },
  {
   "cell_type": "markdown",
   "id": "6dbec789",
   "metadata": {},
   "source": [
    "<img src='1.jpg' style='border: 5px solid #555;' width=70% align=left>\n",
    "<img src='2.jpg' style='border: 5px solid #555;' width=70% align=left>"
   ]
  },
  {
   "cell_type": "code",
   "execution_count": null,
   "id": "caf41fe4",
   "metadata": {
    "tags": []
   },
   "outputs": [],
   "source": []
  },
  {
   "cell_type": "code",
   "execution_count": null,
   "id": "1485232e",
   "metadata": {
    "tags": []
   },
   "outputs": [],
   "source": []
  },
  {
   "cell_type": "code",
   "execution_count": null,
   "id": "96b02fe3",
   "metadata": {
    "tags": []
   },
   "outputs": [],
   "source": []
  },
  {
   "cell_type": "code",
   "execution_count": null,
   "id": "b5d9edc1",
   "metadata": {},
   "outputs": [],
   "source": []
  },
  {
   "cell_type": "code",
   "execution_count": null,
   "id": "6f8d897a",
   "metadata": {},
   "outputs": [],
   "source": [
    "grades = np.linspace(20, 50, 12, dtype= int).reshape(4, 3)\n",
    "grades.sum()\n",
    "grades.min()\n",
    "grades.max()\n",
    "grades.mean()\n",
    "grades.std()\n",
    "grades.var()"
   ]
  },
  {
   "cell_type": "markdown",
   "id": "5b27fa44",
   "metadata": {},
   "source": [
    "# axis"
   ]
  },
  {
   "cell_type": "markdown",
   "id": "0f98fca0",
   "metadata": {},
   "source": [
    "<img src='axis.png' style='border: 5px solid #555;' width=70% align=left>"
   ]
  },
  {
   "cell_type": "code",
   "execution_count": null,
   "id": "2cb0da78",
   "metadata": {},
   "outputs": [],
   "source": []
  },
  {
   "cell_type": "code",
   "execution_count": null,
   "id": "a05bdc6e",
   "metadata": {},
   "outputs": [],
   "source": []
  },
  {
   "cell_type": "code",
   "execution_count": null,
   "id": "1470004d",
   "metadata": {},
   "outputs": [],
   "source": []
  },
  {
   "cell_type": "markdown",
   "id": "525dac32",
   "metadata": {},
   "source": [
    "# slicing"
   ]
  },
  {
   "cell_type": "code",
   "execution_count": null,
   "id": "88b98c87",
   "metadata": {},
   "outputs": [],
   "source": []
  },
  {
   "cell_type": "code",
   "execution_count": null,
   "id": "ee30a9f4",
   "metadata": {},
   "outputs": [],
   "source": []
  },
  {
   "cell_type": "code",
   "execution_count": null,
   "id": "60de67fd",
   "metadata": {},
   "outputs": [],
   "source": []
  },
  {
   "cell_type": "code",
   "execution_count": null,
   "id": "6734c867",
   "metadata": {},
   "outputs": [],
   "source": []
  },
  {
   "cell_type": "code",
   "execution_count": null,
   "id": "612ad868",
   "metadata": {},
   "outputs": [],
   "source": []
  },
  {
   "cell_type": "code",
   "execution_count": null,
   "id": "157e5a77",
   "metadata": {},
   "outputs": [],
   "source": []
  },
  {
   "cell_type": "code",
   "execution_count": null,
   "id": "98f59f07",
   "metadata": {},
   "outputs": [],
   "source": []
  },
  {
   "cell_type": "markdown",
   "id": "6d618565",
   "metadata": {},
   "source": [
    "# view and copy "
   ]
  },
  {
   "cell_type": "markdown",
   "id": "9c430c76",
   "metadata": {},
   "source": [
    "<p style=\"background-color: #FDD835;color:#000;border-radius:10px;margin:5px;padding:5px;\">\n",
    "    The main difference between a copy and a view of an array is that the copy is a new array, and the view is just a view of the original array.\n",
    "The copy owns the data and any changes made to the copy will not affect original array, and any changes made to the original array will not affect the copy.\n",
    "</p>"
   ]
  },
  {
   "cell_type": "code",
   "execution_count": null,
   "id": "c7229205",
   "metadata": {
    "tags": []
   },
   "outputs": [],
   "source": []
  },
  {
   "cell_type": "code",
   "execution_count": null,
   "id": "c89fc598",
   "metadata": {
    "tags": []
   },
   "outputs": [],
   "source": []
  },
  {
   "cell_type": "code",
   "execution_count": null,
   "id": "bca1a0ad",
   "metadata": {
    "tags": []
   },
   "outputs": [],
   "source": []
  },
  {
   "cell_type": "code",
   "execution_count": null,
   "id": "aa93efa6",
   "metadata": {
    "tags": []
   },
   "outputs": [],
   "source": []
  },
  {
   "cell_type": "code",
   "execution_count": null,
   "id": "b0a9b07a",
   "metadata": {
    "tags": []
   },
   "outputs": [],
   "source": []
  },
  {
   "cell_type": "markdown",
   "id": "83bd3d13",
   "metadata": {},
   "source": [
    "# transpose"
   ]
  },
  {
   "cell_type": "code",
   "execution_count": null,
   "id": "2ef62bb8",
   "metadata": {
    "tags": []
   },
   "outputs": [],
   "source": []
  },
  {
   "cell_type": "code",
   "execution_count": null,
   "id": "aaa5da9c",
   "metadata": {
    "tags": []
   },
   "outputs": [],
   "source": []
  },
  {
   "cell_type": "markdown",
   "id": "2439c0e4-f700-4f82-a33a-d46e8afb4c74",
   "metadata": {},
   "source": [
    "# Thanks for your attention \n",
    "#### presented by Amirmahdi Aramide\n",
    "##### Email : amirmahdiaramideh.uni@gmail.com\r",
    "##### Linkedin : https://www.linkedin.com/in/amirmahdi-aramideh\n"
   ]
  },
  {
   "cell_type": "code",
   "execution_count": null,
   "id": "2c2e5db4-0c82-492f-933f-78687dc35084",
   "metadata": {},
   "outputs": [],
   "source": []
  }
 ],
 "metadata": {
  "kernelspec": {
   "display_name": "Python 3 (ipykernel)",
   "language": "python",
   "name": "python3"
  },
  "language_info": {
   "codemirror_mode": {
    "name": "ipython",
    "version": 3
   },
   "file_extension": ".py",
   "mimetype": "text/x-python",
   "name": "python",
   "nbconvert_exporter": "python",
   "pygments_lexer": "ipython3",
   "version": "3.9.12"
  },
  "vscode": {
   "interpreter": {
    "hash": "cad9f2a989210dd50271cb94b675a3f30c608b6c8c2326adab38a5af9085cd4c"
   }
  }
 },
 "nbformat": 4,
 "nbformat_minor": 5
}
